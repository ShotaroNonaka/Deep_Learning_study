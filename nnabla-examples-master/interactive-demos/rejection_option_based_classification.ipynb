{
 "cells": [
  {
   "cell_type": "markdown",
   "metadata": {},
   "source": [
    "## Rejection Option-based Classification"
   ]
  },
  {
   "cell_type": "markdown",
   "metadata": {},
   "source": [
    "### Table of contents :\n",
    "1. [Introduction](#1.-Introduction)\n",
    "2. [Data preparation](#2.-Data-preparation)\n",
    "3. [Train classifier network](#3.-Train-classifier-network)\n",
    "\t* [Model fairness](#Model-fairness) \n",
    "4. [Mitigate the bias using ROC](#4.-Mitigate-the-bias-using-ROC)\n",
    "\t* [Estimate optimal parameters for the ROC method](#Estimate-optimal-parameters-for-the-ROC-method)\n",
    "\t* [Model Fairness after bias mitigation](#Model-Fairness-after-bias-mitigation)\n",
    "5. [Summary](#5.-Summary)\n",
    "6. [References](#6.-References)\n",
    "\n"
   ]
  },
  {
   "cell_type": "markdown",
   "metadata": {},
   "source": [
    "## 1. Introduction\n",
    "Welcome!\n",
    "\n",
    "We hope you have had a chance to go through the previous Sony fairness tutorials. In those tutorials, we had touched upon pre-processing & in-processing techniques for bias mitigation. We also showed how to compute model fairness using different fairness criteria.\n",
    "\n",
    "In this tutorial, we give an overview of a post-processing technique for bias mitigation in predictive models.\n",
    "\n",
    "Post-processing algorithms are mitigation steps that can be applied to the model predictions. [Decision Theory for Discrimination-Aware Classification](#https://ieeexplore.ieee.org/document/6413831), [Equality of Opportunity in Supervised Learning](#https://papers.nips.cc/paper/2016/file/9d2682367c3935defcb1f9e247a97c0d-Paper.pdf), and [Classification with Fairness Constraints](#https://papers.nips.cc/paper/2017/file/b8b9c74ac526fffbeb2d39ab038d1cd7-Paper.pdf) are among the different post-processing bias mitigation techniques currently proposed from academic literature. \n",
    "\n",
    "In this tutorial, we will focus on exploring decision theory for discrimination-aware classification technique called Reject Option-based Classification (ROC) see how to mitigate the bias in a predictive model.\n",
    "\n",
    "Before we go into detailed explanation, here is a sneak peek into the steps involved in the process:\n"
   ]
  },
  {
   "cell_type": "code",
   "execution_count": 1,
   "metadata": {},
   "outputs": [],
   "source": [
    "# Preparation\n",
    "!git clone https://github.com/sony/nnabla-examples.git\n",
    "%cd nnabla-examples/responsible_ai/rejection_option_based_classification\n",
    "\n",
    "import cv2\n",
    "from google.colab.patches import cv2_imshow\n",
    "img = cv2.imread('images/roc_workflow_diagram.png')\n",
    "cv2_imshow(img)"
   ]
  },
  {
   "cell_type": "markdown",
   "metadata": {},
   "source": [
    "As illustrated in the picture, we will train a classifier ML model, analyze model fairness and then show how ROC technique  reduces the bias in model predictions."
   ]
  },
  {
   "cell_type": "code",
   "execution_count": 2,
   "metadata": {},
   "outputs": [],
   "source": [
    "import matplotlib.pyplot as plt\n",
    "import numpy as np\n",
    "import os\n",
    "import sys\n",
    "from warnings import warn\n",
    "import pandas as pd\n",
    "import seaborn as sns\n",
    "from sklearn.model_selection import train_test_split\n",
    "from sklearn.preprocessing import StandardScaler\n",
    "from sklearn.metrics import confusion_matrix, ConfusionMatrixDisplay\n",
    "from utils import *"
   ]
  },
  {
   "cell_type": "markdown",
   "metadata": {},
   "source": [
    "## 2. Data preparation"
   ]
  },
  {
   "cell_type": "markdown",
   "metadata": {},
   "source": [
    "Before training a model, we need to parse dataset and divide it into three categories i.e: features, targets and sensitive attributes. `features` contain input attributes, `targets` contain binary class labels (income range) and `sensitive attributes` contain attributes for which we want the prediction to be fair (race, sex, etc.)."
   ]
  },
  {
   "cell_type": "code",
   "execution_count": 3,
   "metadata": {},
   "outputs": [
    {
     "data": {
      "text/markdown": [
       "features : 28750 samples, 88 attributes"
      ],
      "text/plain": [
       "<IPython.core.display.Markdown object>"
      ]
     },
     "metadata": {},
     "output_type": "display_data"
    },
    {
     "data": {
      "text/markdown": [
       "targets : 28750 samples"
      ],
      "text/plain": [
       "<IPython.core.display.Markdown object>"
      ]
     },
     "metadata": {},
     "output_type": "display_data"
    },
    {
     "data": {
      "text/markdown": [
       "sensitives attributes : 28750 samples, 2 attributes"
      ],
      "text/plain": [
       "<IPython.core.display.Markdown object>"
      ]
     },
     "metadata": {},
     "output_type": "display_data"
    },
    {
     "data": {
      "text/markdown": [
       "sensitives attributes names : ['race', 'sex'] "
      ],
      "text/plain": [
       "<IPython.core.display.Markdown object>"
      ]
     },
     "metadata": {},
     "output_type": "display_data"
    }
   ],
   "source": [
    "X, y, Z = load_adult_data()"
   ]
  },
  {
   "cell_type": "markdown",
   "metadata": {},
   "source": [
    "#### Splitting Data into Training ,Testing and Validation Sets\n",
    "\n",
    "Split the data (features,targets,sensitives attributes) into train, test and validation data sets."
   ]
  },
  {
   "cell_type": "code",
   "execution_count": 4,
   "metadata": {},
   "outputs": [],
   "source": [
    "X_train, X_test, y_train, y_test, Z_train, Z_test = train_test_split(X, y, Z, test_size=0.15, random_state=1)\n",
    "X_train, X_val, y_train, y_val, Z_train, Z_val = train_test_split(X_train, y_train, Z_train, test_size=0.15, random_state=1)\n",
    "\n",
    "#standardize the data\n",
    "scale_orig = StandardScaler()\n",
    "X_train = scale_orig.fit_transform(X_train)\n",
    "X_test = scale_orig.fit_transform(X_test)\n",
    "X_val = scale_orig.fit_transform(X_val)"
   ]
  },
  {
   "cell_type": "markdown",
   "metadata": {},
   "source": [
    "## 3. Train classifier network\n",
    "Train classifier on original training data and predict the class for test data instances using our finalized classification model."
   ]
  },
  {
   "cell_type": "code",
   "execution_count": 5,
   "metadata": {},
   "outputs": [],
   "source": [
    "from sklearn.linear_model import LogisticRegression\n",
    "model = LogisticRegression()\n",
    "model.fit(X_train, y_train)\n",
    "preds_baseline = model.predict(X_test)"
   ]
  },
  {
   "cell_type": "markdown",
   "metadata": {},
   "source": [
    "#### Predict probabilities on the Val & Test Dataset\n",
    "Let's Obtain the scores of validation and test sets. This is useful generally as it provides a measure of the certainty or uncertainty of a prediction."
   ]
  },
  {
   "cell_type": "code",
   "execution_count": 6,
   "metadata": {},
   "outputs": [],
   "source": [
    "# positive class index\n",
    "pos_ind = np.where(model.classes_ == 1)[0][0]\n",
    "val_score = model.predict_proba(X_val)[:,pos_ind]\n",
    "test_score = model.predict_proba(X_test)[:,pos_ind]"
   ]
  },
  {
   "cell_type": "markdown",
   "metadata": {},
   "source": [
    "#### Best classification threshold for classification \n",
    "\n",
    "Let's estimate the optimal classification threshold that maximizes balanced accuracy without fairness constraints."
   ]
  },
  {
   "cell_type": "code",
   "execution_count": 7,
   "metadata": {},
   "outputs": [
    {
     "name": "stdout",
     "output_type": "stream",
     "text": [
      "Best balanced accuracy  = 0.8464\n",
      "Optimal classification threshold = 0.4357\n"
     ]
    }
   ],
   "source": [
    "num_thresh = 100\n",
    "ba_arr = np.zeros(num_thresh)\n",
    "classification_thershold_array = np.linspace(0.01, 0.99, num_thresh)\n",
    "for idx, classification_thershold in enumerate(classification_thershold_array):\n",
    "    y_val_pred = np.where(val_score > classification_thershold, 1, 0)\n",
    "    val_acc = metrics.accuracy_score(y_val, y_val_pred)\n",
    "    ba_arr[idx] = val_acc\n",
    "best_ind = np.where(ba_arr == np.max(ba_arr))[0][0]\n",
    "best_classification_thershold = classification_thershold_array[best_ind]\n",
    "\n",
    "print(\"Best balanced accuracy  = %.4f\" % np.max(ba_arr))\n",
    "print(\"Optimal classification threshold = %.4f\" % best_classification_thershold)"
   ]
  },
  {
   "cell_type": "markdown",
   "metadata": {},
   "source": [
    "### Model fairness \n",
    "\n",
    "Let's start our investigation classifier model fairness by analyzing the test and validation prediction scores, depending on the optimal classification threshold. In the previous tutorial (three metric tutorial link goes here), we've shown how to measure model fairness using different fairness criteria (Demographic parity, Equal opportunity & Equalized odds).\n",
    "\n",
    "Get model fairness with respect to sensitive attribute."
   ]
  },
  {
   "cell_type": "markdown",
   "metadata": {},
   "source": [
    "#### Model Fairness on validation set "
   ]
  },
  {
   "cell_type": "code",
   "execution_count": 8,
   "metadata": {},
   "outputs": [
    {
     "data": {
      "image/png": "[encoded data removed]",
      "text/plain": [
       "<Figure size 720x288 with 3 Axes>"
      ]
     },
     "metadata": {
      "needs_background": "light"
     },
     "output_type": "display_data"
    }
   ],
   "source": [
    "sensitive_attribute = 'sex' # you can chose the sensitive_attribute, wich to know the fairness\n",
    "y_val_pred = np.where(val_score > best_classification_thershold, 1, 0)\n",
    "DPD,EOD,AAOD = get_fairness(y_val, Z_val[sensitive_attribute] == 1, y_val_pred)\n",
    "accuracy = metrics.accuracy_score(y_val, y_val_pred)\n",
    "plot_fairness_multi(DPD, EOD, AAOD, accuracy, bar_x_axis=\"original\")"
   ]
  },
  {
   "cell_type": "markdown",
   "metadata": {},
   "source": [
    "#### Model Fairness on Test set"
   ]
  },
  {
   "cell_type": "code",
   "execution_count": 9,
   "metadata": {},
   "outputs": [
    {
     "data": {
      "image/png": "[encoded data removed]",
      "text/plain": [
       "<Figure size 720x288 with 3 Axes>"
      ]
     },
     "metadata": {
      "needs_background": "light"
     },
     "output_type": "display_data"
    }
   ],
   "source": [
    "y_test_pred = np.where(test_score > best_classification_thershold, 1, 0)\n",
    "DPD,EOD,AAOD = get_fairness(y_test, Z_test[sensitive_attribute] == 1, y_test_pred)\n",
    "accuracy = metrics.accuracy_score(y_test, y_test_pred)\n",
    "plot_fairness_multi(DPD, EOD, AAOD, accuracy, bar_x_axis=\"original\")"
   ]
  },
  {
   "cell_type": "markdown",
   "metadata": {},
   "source": [
    "As seen in the above plots, predictions are definitely not fair when considered in the context of the sensitive attribute. So we need to mitigate the bias.\n",
    "\n",
    "In general, we can mitigate the bias in three ways such as pre-processing, in-processing, and postprocessing. In previous tutorials we have discussed pre-processing and in-processing techniques to mitigate the bias in the data set and the model. In this tutorial we will employ a  post-processing technique to mitigate the bias at prediction time.\n",
    "\n",
    "Post-processing algorithms are mitigation steps that can be applied to the model predictions. In this tutorial, we will focus on a simple and generic post-processing technique called Reject Option-based Classification (ROC).\n",
    "\n",
    "## 4. Mitigate the bias using ROC\n",
    "In this approach, the assumption is that most discrimination occurs when a model is least certain of the prediction i.e. around the decision boundary (classification threshold). For example, with a classification threshold of 0.5, if the model prediction is 0.81 or 0.1, we would consider the model certain of its prediction but for 0.51 or 0.49, the model is not certain about the chosen category. In ROC, for model predictions with the highest uncertainty around the decision boundary, when the favorable outcome is given to the privileged group or the unfavorable outcome is given to the unprivileged. So we will modify the model predictions by giving favorable outcomes to unprivileged groups and unfavorable outcomes to privileged groups in a confidence band around the decision boundary with highest uncertainty.\n",
    "\n",
    "### Estimate optimal parameters for the ROC method\n",
    "\n",
    "Please look at code below to estimate optimal parameters (optimal classification threshold and critical region boundary (ROC margin)) for desired constraint on fairness using ROC technique. \n",
    " \n",
    "Constraints can be used on following fairness measures:\n",
    "* Statistical parity difference \n",
    "* Absolute Average odds difference\n",
    "* Equal opportunity difference \n",
    " \n",
    "Best parameters are those that maximize the classification threshold while satisfying the fairness constraints."
   ]
  },
  {
   "cell_type": "code",
   "execution_count": 1,
   "metadata": {},
   "outputs": [],
   "source": [
    "def reject_option_classification(y_true, y_predicted_score,privileged_group,\n",
    "                metric_name=\"Statistical parity difference\"):\n",
    "    \n",
    "    \"\"\" \n",
    "    Reject option classification is a postprocessing technique that swaps outcomes \n",
    "    between privileged and underprivileged groups near the decision boundary.\n",
    "    \n",
    "    Args:\n",
    "        y_true: ground truth (correct) target values.\n",
    "        y_predicted_score: estimated probability predictions (targets score) as returned by a classifier.\n",
    "        privileged_group: list of privileged group values.\n",
    "        metric_name: name of the metric to use for the optimization(Statistical parity difference,\n",
    "                     Absolute average odds difference,Equal opportunity difference)\n",
    "\n",
    "    Returns:\n",
    "        ROC_margin: critical region boundary,\n",
    "        classification_threshold: optimal classification threshold\n",
    "    \n",
    "    \"\"\"\n",
    "   \n",
    "    low_classification_threshold=0.01 # smallest classification threshold\n",
    "    high_classification_threshold=0.99 # highest classification threshold\n",
    "    number_classification_threshold=100 # number of classification threshold b/w low class threshold and high class threshold\n",
    "    number_ROC_margin=50 # number of relevant ROC margins to be used in the optimization search\n",
    "    metric_upper_bound=0.03 # upper bound of constraint on the metric value\n",
    "    metric_lower_bound=-0.03 # lower bound of constraint on the metric value\n",
    "    \n",
    "    fair_metric_array = np.zeros(number_classification_threshold * number_ROC_margin)\n",
    "    balanced_accuracy_array = np.zeros_like(fair_metric_array)\n",
    "    ROC_margin_array = np.zeros_like(fair_metric_array)\n",
    "    classification_threshold_array = np.zeros_like(fair_metric_array)\n",
    "\n",
    "    count = 0\n",
    "    # Iterate through class thresholds\n",
    "    for class_thresh in np.linspace(low_classification_threshold,\n",
    "                                    high_classification_threshold,\n",
    "                                    number_classification_threshold):\n",
    "\n",
    "        classification_threshold = class_thresh\n",
    "        if class_thresh <= 0.5:\n",
    "            low_ROC_margin = 0.0\n",
    "            high_ROC_margin = class_thresh\n",
    "        else:\n",
    "            low_ROC_margin = 0.0\n",
    "            high_ROC_margin = (1.0-class_thresh)\n",
    "\n",
    "        # Iterate through ROC margins\n",
    "        for ROC_margin in np.linspace(\n",
    "                            low_ROC_margin,\n",
    "                            high_ROC_margin,\n",
    "                            number_ROC_margin):\n",
    "            ROC_margin = ROC_margin\n",
    "            # Predict using the current threshold and margin\n",
    "            y_pred = predict(y_predicted_score,classification_threshold,ROC_margin,privileged_group)\n",
    "            acc = metrics.accuracy_score(y_true, y_pred)\n",
    "            DPD,EOD,AAOD = get_fairness(y_true, privileged_group, y_pred)\n",
    "            ROC_margin_array[count] = ROC_margin\n",
    "            classification_threshold_array[count] = classification_threshold\n",
    "            balanced_accuracy_array[count] = acc\n",
    "            if metric_name == \"Statistical parity difference\":\n",
    "                fair_metric_array[count] = DPD\n",
    "            elif metric_name == \"Absolute average odds difference\":\n",
    "                fair_metric_array[count] = AAOD\n",
    "            elif metric_name == \"Equal opportunity difference\":\n",
    "                fair_metric_array[count] = EOD\n",
    "            count += 1\n",
    "\n",
    "    rel_inds = np.logical_and(fair_metric_array >= metric_lower_bound,\n",
    "                              fair_metric_array <= metric_upper_bound)\n",
    "    if any(rel_inds):\n",
    "        best_ind = np.where(balanced_accuracy_array[rel_inds]\n",
    "                            == np.max(balanced_accuracy_array[rel_inds]))[0][0]\n",
    "    else:\n",
    "        warn(\"Unable to satisy fairness constraints\")\n",
    "        rel_inds = np.ones(len(fair_metric_array), dtype=bool)\n",
    "        best_ind = np.where(fair_metric_array[rel_inds]\n",
    "                            == np.min(fair_metric_array[rel_inds]))[0][0]\n",
    "\n",
    "    ROC_margin = ROC_margin_array[rel_inds][best_ind]\n",
    "    classification_threshold = classification_threshold_array[rel_inds][best_ind]\n",
    "\n",
    "    return ROC_margin,classification_threshold\n"
   ]
  },
  {
   "cell_type": "code",
   "execution_count": 2,
   "metadata": {},
   "outputs": [],
   "source": [
    "def predict(y_predicted_score,classification_threshold,ROC_margin,privileged_group):\n",
    "    \"\"\"\n",
    "    Obtain fair predictions with ROC method\n",
    "    \n",
    "    Args:\n",
    "        y_predicted_score: estimated probability predictions (targets score) as returned by a classifier.\n",
    "        classification_threshold : otimal classification threshold\n",
    "        ROC_margin : critical region boundary\n",
    "        privileged_group : list of privileged group values.\n",
    "    Returns:\n",
    "        y_pred: predictions using ROC method       \n",
    "    \n",
    "    \"\"\"\n",
    "\n",
    "    y_pred = np.where(y_predicted_score > classification_threshold, 1, 0)\n",
    "\n",
    "    # Indices of critical region around the classification boundary\n",
    "    critical_region_indices = np.logical_and(\n",
    "            y_predicted_score <= classification_threshold + ROC_margin,\n",
    "            y_predicted_score > classification_threshold - ROC_margin)\n",
    "\n",
    "    # Indices of privileged and unprivileged groups\n",
    "    cond_priv =  privileged_group\n",
    "    cond_unpriv = privileged_group==False\n",
    "    y_pred[np.logical_and(critical_region_indices,\n",
    "                        cond_priv)] = 0\n",
    "    y_pred[np.logical_and(critical_region_indices,\n",
    "                        cond_unpriv)] = 1\n",
    "\n",
    "    return y_pred"
   ]
  },
  {
   "cell_type": "markdown",
   "metadata": {},
   "source": [
    "So let's estimate the optimal classification threshold, and the critical region boundary (ROC margin) using a validation set for the desired constraint on fairness.\n",
    "\n",
    "In this tutorial, we have used `Equal opportunity difference` as a fairness constraint."
   ]
  },
  {
   "cell_type": "code",
   "execution_count": 12,
   "metadata": {},
   "outputs": [
    {
     "name": "stdout",
     "output_type": "stream",
     "text": [
      "0.043648732220160795 0.3564646464646465\n"
     ]
    }
   ],
   "source": [
    "# Metric used\n",
    "metric_name = \"Equal opportunity difference\"\n",
    "ROC_margin,classification_threshold = reject_option_classification(y_val,val_score,Z_val[sensitive_attribute] == 1,\n",
    "                metric_name=metric_name)\n",
    "print(ROC_margin,classification_threshold)"
   ]
  },
  {
   "cell_type": "markdown",
   "metadata": {},
   "source": [
    "### Model Fairness after bias mitigation"
   ]
  },
  {
   "cell_type": "markdown",
   "metadata": {},
   "source": [
    "#### Model Fairness on Val set\n",
    "Let's obtain the prediction for validation data using estimated optimal classification threshold, compute accuracy and fairness metrics."
   ]
  },
  {
   "cell_type": "code",
   "execution_count": 13,
   "metadata": {},
   "outputs": [
    {
     "data": {
      "image/png": "[encoded data removed]",
      "text/plain": [
       "<Figure size 720x288 with 3 Axes>"
      ]
     },
     "metadata": {
      "needs_background": "light"
     },
     "output_type": "display_data"
    }
   ],
   "source": [
    "pred = predict(val_score,classification_threshold,ROC_margin,Z_val[sensitive_attribute] == 1)\n",
    "accuracy = metrics.accuracy_score(y_val, pred)\n",
    "DPD,EOD,AAOD = get_fairness(y_val,Z_val[sensitive_attribute] == 1, pred)\n",
    "plot_fairness_multi(DPD, EOD, AAOD, accuracy, bar_x_axis=\"ROC\")"
   ]
  },
  {
   "cell_type": "markdown",
   "metadata": {},
   "source": [
    "#### Model Fairness on Test set\n",
    "Let's obtain prediction for test data using estimated optimal classification threshold, compute accuracy and fairness metrics."
   ]
  },
  {
   "cell_type": "code",
   "execution_count": 14,
   "metadata": {},
   "outputs": [
    {
     "data": {
      "image/png": "[encoded data removed]",
      "text/plain": [
       "<Figure size 720x288 with 3 Axes>"
      ]
     },
     "metadata": {
      "needs_background": "light"
     },
     "output_type": "display_data"
    }
   ],
   "source": [
    "pred = predict(test_score,classification_threshold,ROC_margin,Z_test[sensitive_attribute] == 1)\n",
    "accuracy = metrics.accuracy_score(y_test, pred)\n",
    "DPD,EOD,AAOD = get_fairness(y_test,Z_test[sensitive_attribute] == 1, pred)\n",
    "plot_fairness_multi(DPD, EOD, AAOD, accuracy, bar_x_axis=\"ROC\")"
   ]
  },
  {
   "cell_type": "markdown",
   "metadata": {},
   "source": [
    "As seen in the above plots, model accuracy dropped by 0.7, but with this technique was able to reduce the Absolute Average Odds Difference and Equal opportunity almost to zero. To achieve this reduction in bias, the decision-makers should consider the tradeoff between accuracy and fairness."
   ]
  },
  {
   "cell_type": "markdown",
   "metadata": {},
   "source": [
    "## 5. Summary\n",
    "\n",
    "In this tutorial, we have shown how to reduce the bias at prediction time using a post-processing technique (Reject Option based Classification). In comparison to in-processing methods like Adversarial debiasing, experiments show that in-processing techniques are more effective at reducing bias than post-processing techniques such as ROC. However, advantage of this method is: ML practitioners could directly intervene at the last stage of the modeling workflow without modifying the data or learning algorithm while effectively reducing the bias with small drop in accuracy. "
   ]
  },
  {
   "cell_type": "markdown",
   "metadata": {},
   "source": [
    "## 6. References\n",
    "\n",
    "1. [Decision theory for discrimination-aware classification](#https://ieeexplore.ieee.org/document/6413831)\n",
    "2. [Equality of Opportunity in Supervised Learning](#https://papers.nips.cc/paper/2016/file/9d2682367c3935defcb1f9e247a97c0d-Paper.pdf)\n",
    "3. [On Fairness and Calibration](#https://papers.nips.cc/paper/2017/file/b8b9c74ac526fffbeb2d39ab038d1cd7-Paper.pdf)\n",
    "4. [Mitigating Unwanted Biases with Adversarial Learning](#https://arxiv.org/pdf/1801.07593.pdf)\n",
    "5. [Adult — UCI Machine Learning](#http://archive.ics.uci.edu/ml/datasets/Adult)\n",
    "6. [AI Fairness 360: An extensible toolkit for detecting and mitigating algorithmic bias](#https://arxiv.org/pdf/1810.01943.pdf)\n"
   ]
  }
 ],
 "metadata": {
  "kernelspec": {
   "display_name": "Python 3",
   "language": "python",
   "name": "python3"
  },
  "language_info": {
   "codemirror_mode": {
    "name": "ipython",
    "version": 3
   },
   "file_extension": ".py",
   "mimetype": "text/x-python",
   "name": "python",
   "nbconvert_exporter": "python",
   "pygments_lexer": "ipython3",
   "version": "3.7.9"
  }
 },
 "nbformat": 4,
 "nbformat_minor": 4
}
